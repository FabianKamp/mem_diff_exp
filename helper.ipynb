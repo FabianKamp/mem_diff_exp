{
 "cells": [
  {
   "cell_type": "code",
   "execution_count": 19,
   "id": "32b7de30",
   "metadata": {},
   "outputs": [
    {
     "data": {
      "application/vnd.microsoft.datawrangler.viewer.v0+json": {
       "columns": [
        {
         "name": "index",
         "rawType": "int64",
         "type": "integer"
        },
        {
         "name": "rt",
         "rawType": "float64",
         "type": "float"
        },
        {
         "name": "stimulus",
         "rawType": "object",
         "type": "unknown"
        },
        {
         "name": "response",
         "rawType": "float64",
         "type": "float"
        },
        {
         "name": "trial_type",
         "rawType": "object",
         "type": "string"
        },
        {
         "name": "trial_index",
         "rawType": "int64",
         "type": "integer"
        },
        {
         "name": "plugin_version",
         "rawType": "object",
         "type": "string"
        },
        {
         "name": "time_elapsed",
         "rawType": "int64",
         "type": "integer"
        },
        {
         "name": "start",
         "rawType": "object",
         "type": "string"
        },
        {
         "name": "subject_id",
         "rawType": "object",
         "type": "string"
        },
        {
         "name": "OS",
         "rawType": "object",
         "type": "string"
        },
        {
         "name": "fullscreen_mode",
         "rawType": "bool",
         "type": "boolean"
        },
        {
         "name": "radius",
         "rawType": "int64",
         "type": "integer"
        },
        {
         "name": "memory_delay",
         "rawType": "int64",
         "type": "integer"
        },
        {
         "name": "theta",
         "rawType": "float64",
         "type": "float"
        },
        {
         "name": "image_id",
         "rawType": "object",
         "type": "unknown"
        },
        {
         "name": "experiment_complete",
         "rawType": "bool",
         "type": "boolean"
        },
        {
         "name": "end_time",
         "rawType": "object",
         "type": "string"
        },
        {
         "name": "slider_start",
         "rawType": "float64",
         "type": "float"
        },
        {
         "name": "condition_id",
         "rawType": "object",
         "type": "unknown"
        },
        {
         "name": "view_history",
         "rawType": "object",
         "type": "unknown"
        }
       ],
       "ref": "b391585c-4c4b-4bf6-9b28-4cee98af7f43",
       "rows": [
        [
         "0",
         null,
         "images/174-space_shuttle.jpg",
         null,
         "wm",
         "1",
         "2.1.0",
         "2012",
         "2025-06-10 08:35:42.085",
         "1",
         "MacIntel",
         "True",
         "200",
         "3000",
         "2.603",
         "174",
         "True",
         "2025-06-10 08:36:30.679",
         null,
         null,
         null
        ],
        [
         "1",
         null,
         "images/191-kettle.jpg",
         null,
         "wm",
         "3",
         "2.1.0",
         "3218",
         "2025-06-10 08:35:42.085",
         "1",
         "MacIntel",
         "True",
         "200",
         "3000",
         "0.508",
         "191",
         "True",
         "2025-06-10 08:36:30.679",
         null,
         null,
         null
        ],
        [
         "2",
         null,
         "images/202-ruby.jpg",
         null,
         "wm",
         "5",
         "2.1.0",
         "4425",
         "2025-06-10 08:35:42.085",
         "1",
         "MacIntel",
         "True",
         "200",
         "3000",
         "4.697",
         "202",
         "True",
         "2025-06-10 08:36:30.679",
         null,
         null,
         null
        ],
        [
         "3",
         "36192.0",
         "images/174-outlet.jpg",
         "69.0",
         "wm",
         "7",
         "2.1.0",
         "43623",
         "2025-06-10 08:35:42.085",
         "1",
         "MacIntel",
         "True",
         "200",
         "3000",
         "2.603",
         "174",
         "True",
         "2025-06-10 08:36:30.679",
         "40.0",
         "1",
         null
        ],
        [
         "4",
         "2052.0",
         null,
         null,
         "instructions",
         "8",
         "2.1.0",
         "45678",
         "2025-06-10 08:35:42.085",
         "1",
         "MacIntel",
         "True",
         "200",
         "3000",
         null,
         null,
         "True",
         "2025-06-10 08:36:30.679",
         null,
         null,
         "[{'page_index': 0, 'viewing_time': 2052}]"
        ],
        [
         "5",
         "2238.0",
         "images/191-kettle.jpg",
         "50.0",
         "lm",
         "10",
         "2.1.0",
         "48422",
         "2025-06-10 08:35:42.085",
         "1",
         "MacIntel",
         "True",
         "200",
         "3000",
         null,
         "191",
         "True",
         "2025-06-10 08:36:30.679",
         "37.0",
         "1",
         null
        ],
        [
         "6",
         "1764.0",
         null,
         null,
         "instructions",
         "11",
         "2.1.0",
         "50188",
         "2025-06-10 08:35:42.085",
         "1",
         "MacIntel",
         "True",
         "200",
         "3000",
         null,
         null,
         "True",
         "2025-06-10 08:36:30.679",
         null,
         null,
         "[{'page_index': 0, 'viewing_time': 1764}]"
        ]
       ],
       "shape": {
        "columns": 20,
        "rows": 7
       }
      },
      "text/html": [
       "<div>\n",
       "<style scoped>\n",
       "    .dataframe tbody tr th:only-of-type {\n",
       "        vertical-align: middle;\n",
       "    }\n",
       "\n",
       "    .dataframe tbody tr th {\n",
       "        vertical-align: top;\n",
       "    }\n",
       "\n",
       "    .dataframe thead th {\n",
       "        text-align: right;\n",
       "    }\n",
       "</style>\n",
       "<table border=\"1\" class=\"dataframe\">\n",
       "  <thead>\n",
       "    <tr style=\"text-align: right;\">\n",
       "      <th></th>\n",
       "      <th>rt</th>\n",
       "      <th>stimulus</th>\n",
       "      <th>response</th>\n",
       "      <th>trial_type</th>\n",
       "      <th>trial_index</th>\n",
       "      <th>plugin_version</th>\n",
       "      <th>time_elapsed</th>\n",
       "      <th>start</th>\n",
       "      <th>subject_id</th>\n",
       "      <th>OS</th>\n",
       "      <th>fullscreen_mode</th>\n",
       "      <th>radius</th>\n",
       "      <th>memory_delay</th>\n",
       "      <th>theta</th>\n",
       "      <th>image_id</th>\n",
       "      <th>experiment_complete</th>\n",
       "      <th>end_time</th>\n",
       "      <th>slider_start</th>\n",
       "      <th>condition_id</th>\n",
       "      <th>view_history</th>\n",
       "    </tr>\n",
       "  </thead>\n",
       "  <tbody>\n",
       "    <tr>\n",
       "      <th>0</th>\n",
       "      <td>NaN</td>\n",
       "      <td>images/174-space_shuttle.jpg</td>\n",
       "      <td>NaN</td>\n",
       "      <td>wm</td>\n",
       "      <td>1</td>\n",
       "      <td>2.1.0</td>\n",
       "      <td>2012</td>\n",
       "      <td>2025-06-10 08:35:42.085</td>\n",
       "      <td>1</td>\n",
       "      <td>MacIntel</td>\n",
       "      <td>True</td>\n",
       "      <td>200</td>\n",
       "      <td>3000</td>\n",
       "      <td>2.603</td>\n",
       "      <td>174</td>\n",
       "      <td>True</td>\n",
       "      <td>2025-06-10 08:36:30.679</td>\n",
       "      <td>NaN</td>\n",
       "      <td>NaN</td>\n",
       "      <td>NaN</td>\n",
       "    </tr>\n",
       "    <tr>\n",
       "      <th>1</th>\n",
       "      <td>NaN</td>\n",
       "      <td>images/191-kettle.jpg</td>\n",
       "      <td>NaN</td>\n",
       "      <td>wm</td>\n",
       "      <td>3</td>\n",
       "      <td>2.1.0</td>\n",
       "      <td>3218</td>\n",
       "      <td>2025-06-10 08:35:42.085</td>\n",
       "      <td>1</td>\n",
       "      <td>MacIntel</td>\n",
       "      <td>True</td>\n",
       "      <td>200</td>\n",
       "      <td>3000</td>\n",
       "      <td>0.508</td>\n",
       "      <td>191</td>\n",
       "      <td>True</td>\n",
       "      <td>2025-06-10 08:36:30.679</td>\n",
       "      <td>NaN</td>\n",
       "      <td>NaN</td>\n",
       "      <td>NaN</td>\n",
       "    </tr>\n",
       "    <tr>\n",
       "      <th>2</th>\n",
       "      <td>NaN</td>\n",
       "      <td>images/202-ruby.jpg</td>\n",
       "      <td>NaN</td>\n",
       "      <td>wm</td>\n",
       "      <td>5</td>\n",
       "      <td>2.1.0</td>\n",
       "      <td>4425</td>\n",
       "      <td>2025-06-10 08:35:42.085</td>\n",
       "      <td>1</td>\n",
       "      <td>MacIntel</td>\n",
       "      <td>True</td>\n",
       "      <td>200</td>\n",
       "      <td>3000</td>\n",
       "      <td>4.697</td>\n",
       "      <td>202</td>\n",
       "      <td>True</td>\n",
       "      <td>2025-06-10 08:36:30.679</td>\n",
       "      <td>NaN</td>\n",
       "      <td>NaN</td>\n",
       "      <td>NaN</td>\n",
       "    </tr>\n",
       "    <tr>\n",
       "      <th>3</th>\n",
       "      <td>36192.0</td>\n",
       "      <td>images/174-outlet.jpg</td>\n",
       "      <td>69.0</td>\n",
       "      <td>wm</td>\n",
       "      <td>7</td>\n",
       "      <td>2.1.0</td>\n",
       "      <td>43623</td>\n",
       "      <td>2025-06-10 08:35:42.085</td>\n",
       "      <td>1</td>\n",
       "      <td>MacIntel</td>\n",
       "      <td>True</td>\n",
       "      <td>200</td>\n",
       "      <td>3000</td>\n",
       "      <td>2.603</td>\n",
       "      <td>174</td>\n",
       "      <td>True</td>\n",
       "      <td>2025-06-10 08:36:30.679</td>\n",
       "      <td>40.0</td>\n",
       "      <td>1</td>\n",
       "      <td>NaN</td>\n",
       "    </tr>\n",
       "    <tr>\n",
       "      <th>4</th>\n",
       "      <td>2052.0</td>\n",
       "      <td>NaN</td>\n",
       "      <td>NaN</td>\n",
       "      <td>instructions</td>\n",
       "      <td>8</td>\n",
       "      <td>2.1.0</td>\n",
       "      <td>45678</td>\n",
       "      <td>2025-06-10 08:35:42.085</td>\n",
       "      <td>1</td>\n",
       "      <td>MacIntel</td>\n",
       "      <td>True</td>\n",
       "      <td>200</td>\n",
       "      <td>3000</td>\n",
       "      <td>NaN</td>\n",
       "      <td>NaN</td>\n",
       "      <td>True</td>\n",
       "      <td>2025-06-10 08:36:30.679</td>\n",
       "      <td>NaN</td>\n",
       "      <td>NaN</td>\n",
       "      <td>[{'page_index': 0, 'viewing_time': 2052}]</td>\n",
       "    </tr>\n",
       "    <tr>\n",
       "      <th>5</th>\n",
       "      <td>2238.0</td>\n",
       "      <td>images/191-kettle.jpg</td>\n",
       "      <td>50.0</td>\n",
       "      <td>lm</td>\n",
       "      <td>10</td>\n",
       "      <td>2.1.0</td>\n",
       "      <td>48422</td>\n",
       "      <td>2025-06-10 08:35:42.085</td>\n",
       "      <td>1</td>\n",
       "      <td>MacIntel</td>\n",
       "      <td>True</td>\n",
       "      <td>200</td>\n",
       "      <td>3000</td>\n",
       "      <td>NaN</td>\n",
       "      <td>191</td>\n",
       "      <td>True</td>\n",
       "      <td>2025-06-10 08:36:30.679</td>\n",
       "      <td>37.0</td>\n",
       "      <td>1</td>\n",
       "      <td>NaN</td>\n",
       "    </tr>\n",
       "    <tr>\n",
       "      <th>6</th>\n",
       "      <td>1764.0</td>\n",
       "      <td>NaN</td>\n",
       "      <td>NaN</td>\n",
       "      <td>instructions</td>\n",
       "      <td>11</td>\n",
       "      <td>2.1.0</td>\n",
       "      <td>50188</td>\n",
       "      <td>2025-06-10 08:35:42.085</td>\n",
       "      <td>1</td>\n",
       "      <td>MacIntel</td>\n",
       "      <td>True</td>\n",
       "      <td>200</td>\n",
       "      <td>3000</td>\n",
       "      <td>NaN</td>\n",
       "      <td>NaN</td>\n",
       "      <td>True</td>\n",
       "      <td>2025-06-10 08:36:30.679</td>\n",
       "      <td>NaN</td>\n",
       "      <td>NaN</td>\n",
       "      <td>[{'page_index': 0, 'viewing_time': 1764}]</td>\n",
       "    </tr>\n",
       "  </tbody>\n",
       "</table>\n",
       "</div>"
      ],
      "text/plain": [
       "        rt                      stimulus  response    trial_type  trial_index  \\\n",
       "0      NaN  images/174-space_shuttle.jpg       NaN            wm            1   \n",
       "1      NaN         images/191-kettle.jpg       NaN            wm            3   \n",
       "2      NaN           images/202-ruby.jpg       NaN            wm            5   \n",
       "3  36192.0         images/174-outlet.jpg      69.0            wm            7   \n",
       "4   2052.0                           NaN       NaN  instructions            8   \n",
       "5   2238.0         images/191-kettle.jpg      50.0            lm           10   \n",
       "6   1764.0                           NaN       NaN  instructions           11   \n",
       "\n",
       "  plugin_version  time_elapsed                    start subject_id        OS  \\\n",
       "0          2.1.0          2012  2025-06-10 08:35:42.085          1  MacIntel   \n",
       "1          2.1.0          3218  2025-06-10 08:35:42.085          1  MacIntel   \n",
       "2          2.1.0          4425  2025-06-10 08:35:42.085          1  MacIntel   \n",
       "3          2.1.0         43623  2025-06-10 08:35:42.085          1  MacIntel   \n",
       "4          2.1.0         45678  2025-06-10 08:35:42.085          1  MacIntel   \n",
       "5          2.1.0         48422  2025-06-10 08:35:42.085          1  MacIntel   \n",
       "6          2.1.0         50188  2025-06-10 08:35:42.085          1  MacIntel   \n",
       "\n",
       "   fullscreen_mode  radius  memory_delay  theta image_id  experiment_complete  \\\n",
       "0             True     200          3000  2.603      174                 True   \n",
       "1             True     200          3000  0.508      191                 True   \n",
       "2             True     200          3000  4.697      202                 True   \n",
       "3             True     200          3000  2.603      174                 True   \n",
       "4             True     200          3000    NaN      NaN                 True   \n",
       "5             True     200          3000    NaN      191                 True   \n",
       "6             True     200          3000    NaN      NaN                 True   \n",
       "\n",
       "                  end_time  slider_start condition_id  \\\n",
       "0  2025-06-10 08:36:30.679           NaN          NaN   \n",
       "1  2025-06-10 08:36:30.679           NaN          NaN   \n",
       "2  2025-06-10 08:36:30.679           NaN          NaN   \n",
       "3  2025-06-10 08:36:30.679          40.0            1   \n",
       "4  2025-06-10 08:36:30.679           NaN          NaN   \n",
       "5  2025-06-10 08:36:30.679          37.0            1   \n",
       "6  2025-06-10 08:36:30.679           NaN          NaN   \n",
       "\n",
       "                                view_history  \n",
       "0                                        NaN  \n",
       "1                                        NaN  \n",
       "2                                        NaN  \n",
       "3                                        NaN  \n",
       "4  [{'page_index': 0, 'viewing_time': 2052}]  \n",
       "5                                        NaN  \n",
       "6  [{'page_index': 0, 'viewing_time': 1764}]  "
      ]
     },
     "metadata": {},
     "output_type": "display_data"
    }
   ],
   "source": [
    "import json\n",
    "import pandas as pd\n",
    "\n",
    "# Path to your file\n",
    "file_path = '/Users/kamp/PhD/experiments/mem_diff_exp/output_data/mem_diff-results.json'\n",
    "\n",
    "with open(file_path, 'r') as f:\n",
    "    outer = json.load(f)\n",
    "\n",
    "data = json.loads(outer['data'])\n",
    "\n",
    "data_properties = data[\"dataProperties\"]\n",
    "\n",
    "trial_data = data['results']['trials']\n",
    "df = pd.DataFrame(trial_data)\n",
    "display(df)"
   ]
  },
  {
   "cell_type": "code",
   "execution_count": 42,
   "id": "7a278b60",
   "metadata": {},
   "outputs": [
    {
     "data": {
      "application/vnd.microsoft.datawrangler.viewer.v0+json": {
       "columns": [
        {
         "name": "index",
         "rawType": "int64",
         "type": "integer"
        },
        {
         "name": "image_id",
         "rawType": "object",
         "type": "string"
        },
        {
         "name": "image_path",
         "rawType": "object",
         "type": "string"
        }
       ],
       "ref": "566208ee-6677-4162-b746-2f726e7b1988",
       "rows": [
        [
         "0",
         "1024",
         "stimuli/lm_stimuli/images/024/1024.jpg"
        ],
        [
         "1",
         "3024",
         "stimuli/lm_stimuli/images/024/3024.jpg"
        ],
        [
         "2",
         "2024",
         "stimuli/lm_stimuli/images/024/2024.jpg"
        ],
        [
         "3",
         "4024",
         "stimuli/lm_stimuli/images/024/4024.jpg"
        ],
        [
         "4",
         "3023",
         "stimuli/lm_stimuli/images/023/3023.jpg"
        ],
        [
         "5",
         "1023",
         "stimuli/lm_stimuli/images/023/1023.jpg"
        ],
        [
         "6",
         "2023",
         "stimuli/lm_stimuli/images/023/2023.jpg"
        ],
        [
         "7",
         "4023",
         "stimuli/lm_stimuli/images/023/4023.jpg"
        ],
        [
         "8",
         "4015",
         "stimuli/lm_stimuli/images/015/4015.jpg"
        ],
        [
         "9",
         "2015",
         "stimuli/lm_stimuli/images/015/2015.jpg"
        ],
        [
         "10",
         "3015",
         "stimuli/lm_stimuli/images/015/3015.jpg"
        ],
        [
         "11",
         "1015",
         "stimuli/lm_stimuli/images/015/1015.jpg"
        ],
        [
         "12",
         "4012",
         "stimuli/lm_stimuli/images/012/4012.jpg"
        ],
        [
         "13",
         "2012",
         "stimuli/lm_stimuli/images/012/2012.jpg"
        ],
        [
         "14",
         "1012",
         "stimuli/lm_stimuli/images/012/1012.jpg"
        ],
        [
         "15",
         "3012",
         "stimuli/lm_stimuli/images/012/3012.jpg"
        ],
        [
         "16",
         "1046",
         "stimuli/lm_stimuli/images/046/1046.jpg"
        ],
        [
         "17",
         "3046",
         "stimuli/lm_stimuli/images/046/3046.jpg"
        ],
        [
         "18",
         "4046",
         "stimuli/lm_stimuli/images/046/4046.jpg"
        ],
        [
         "19",
         "2046",
         "stimuli/lm_stimuli/images/046/2046.jpg"
        ],
        [
         "20",
         "3041",
         "stimuli/lm_stimuli/images/041/3041.jpg"
        ],
        [
         "21",
         "1041",
         "stimuli/lm_stimuli/images/041/1041.jpg"
        ],
        [
         "22",
         "4041",
         "stimuli/lm_stimuli/images/041/4041.jpg"
        ],
        [
         "23",
         "2041",
         "stimuli/lm_stimuli/images/041/2041.jpg"
        ],
        [
         "24",
         "2048",
         "stimuli/lm_stimuli/images/048/2048.jpg"
        ],
        [
         "25",
         "4048",
         "stimuli/lm_stimuli/images/048/4048.jpg"
        ],
        [
         "26",
         "3048",
         "stimuli/lm_stimuli/images/048/3048.jpg"
        ],
        [
         "27",
         "1048",
         "stimuli/lm_stimuli/images/048/1048.jpg"
        ],
        [
         "28",
         "4013",
         "stimuli/lm_stimuli/images/013/4013.jpg"
        ],
        [
         "29",
         "2013",
         "stimuli/lm_stimuli/images/013/2013.jpg"
        ],
        [
         "30",
         "1013",
         "stimuli/lm_stimuli/images/013/1013.jpg"
        ],
        [
         "31",
         "3013",
         "stimuli/lm_stimuli/images/013/3013.jpg"
        ],
        [
         "32",
         "4014",
         "stimuli/lm_stimuli/images/014/4014.jpg"
        ],
        [
         "33",
         "2014",
         "stimuli/lm_stimuli/images/014/2014.jpg"
        ],
        [
         "34",
         "3014",
         "stimuli/lm_stimuli/images/014/3014.jpg"
        ],
        [
         "35",
         "1014",
         "stimuli/lm_stimuli/images/014/1014.jpg"
        ],
        [
         "36",
         "3022",
         "stimuli/lm_stimuli/images/022/3022.jpg"
        ],
        [
         "37",
         "1022",
         "stimuli/lm_stimuli/images/022/1022.jpg"
        ],
        [
         "38",
         "2022",
         "stimuli/lm_stimuli/images/022/2022.jpg"
        ],
        [
         "39",
         "4022",
         "stimuli/lm_stimuli/images/022/4022.jpg"
        ],
        [
         "40",
         "1025",
         "stimuli/lm_stimuli/images/025/1025.jpg"
        ],
        [
         "41",
         "3025",
         "stimuli/lm_stimuli/images/025/3025.jpg"
        ],
        [
         "42",
         "2025",
         "stimuli/lm_stimuli/images/025/2025.jpg"
        ],
        [
         "43",
         "4025",
         "stimuli/lm_stimuli/images/025/4025.jpg"
        ],
        [
         "44",
         "2049",
         "stimuli/lm_stimuli/images/049/2049.jpg"
        ],
        [
         "45",
         "4049",
         "stimuli/lm_stimuli/images/049/4049.jpg"
        ],
        [
         "46",
         "3049",
         "stimuli/lm_stimuli/images/049/3049.jpg"
        ],
        [
         "47",
         "1049",
         "stimuli/lm_stimuli/images/049/1049.jpg"
        ],
        [
         "48",
         "3040",
         "stimuli/lm_stimuli/images/040/3040.jpg"
        ],
        [
         "49",
         "1040",
         "stimuli/lm_stimuli/images/040/1040.jpg"
        ]
       ],
       "shape": {
        "columns": 2,
        "rows": 1462
       }
      },
      "text/html": [
       "<div>\n",
       "<style scoped>\n",
       "    .dataframe tbody tr th:only-of-type {\n",
       "        vertical-align: middle;\n",
       "    }\n",
       "\n",
       "    .dataframe tbody tr th {\n",
       "        vertical-align: top;\n",
       "    }\n",
       "\n",
       "    .dataframe thead th {\n",
       "        text-align: right;\n",
       "    }\n",
       "</style>\n",
       "<table border=\"1\" class=\"dataframe\">\n",
       "  <thead>\n",
       "    <tr style=\"text-align: right;\">\n",
       "      <th></th>\n",
       "      <th>image_id</th>\n",
       "      <th>image_path</th>\n",
       "    </tr>\n",
       "  </thead>\n",
       "  <tbody>\n",
       "    <tr>\n",
       "      <th>0</th>\n",
       "      <td>1024</td>\n",
       "      <td>stimuli/lm_stimuli/images/024/1024.jpg</td>\n",
       "    </tr>\n",
       "    <tr>\n",
       "      <th>1</th>\n",
       "      <td>3024</td>\n",
       "      <td>stimuli/lm_stimuli/images/024/3024.jpg</td>\n",
       "    </tr>\n",
       "    <tr>\n",
       "      <th>2</th>\n",
       "      <td>2024</td>\n",
       "      <td>stimuli/lm_stimuli/images/024/2024.jpg</td>\n",
       "    </tr>\n",
       "    <tr>\n",
       "      <th>3</th>\n",
       "      <td>4024</td>\n",
       "      <td>stimuli/lm_stimuli/images/024/4024.jpg</td>\n",
       "    </tr>\n",
       "    <tr>\n",
       "      <th>4</th>\n",
       "      <td>3023</td>\n",
       "      <td>stimuli/lm_stimuli/images/023/3023.jpg</td>\n",
       "    </tr>\n",
       "    <tr>\n",
       "      <th>...</th>\n",
       "      <td>...</td>\n",
       "      <td>...</td>\n",
       "    </tr>\n",
       "    <tr>\n",
       "      <th>1457</th>\n",
       "      <td>9702</td>\n",
       "      <td>stimuli/dist_stimuli/images/9702.jpg</td>\n",
       "    </tr>\n",
       "    <tr>\n",
       "      <th>1458</th>\n",
       "      <td>9064</td>\n",
       "      <td>stimuli/dist_stimuli/images/9064.jpg</td>\n",
       "    </tr>\n",
       "    <tr>\n",
       "      <th>1459</th>\n",
       "      <td>9070</td>\n",
       "      <td>stimuli/dist_stimuli/images/9070.jpg</td>\n",
       "    </tr>\n",
       "    <tr>\n",
       "      <th>1460</th>\n",
       "      <td>9716</td>\n",
       "      <td>stimuli/dist_stimuli/images/9716.jpg</td>\n",
       "    </tr>\n",
       "    <tr>\n",
       "      <th>1461</th>\n",
       "      <td>9058</td>\n",
       "      <td>stimuli/dist_stimuli/images/9058.jpg</td>\n",
       "    </tr>\n",
       "  </tbody>\n",
       "</table>\n",
       "<p>1462 rows × 2 columns</p>\n",
       "</div>"
      ],
      "text/plain": [
       "     image_id                              image_path\n",
       "0        1024  stimuli/lm_stimuli/images/024/1024.jpg\n",
       "1        3024  stimuli/lm_stimuli/images/024/3024.jpg\n",
       "2        2024  stimuli/lm_stimuli/images/024/2024.jpg\n",
       "3        4024  stimuli/lm_stimuli/images/024/4024.jpg\n",
       "4        3023  stimuli/lm_stimuli/images/023/3023.jpg\n",
       "...       ...                                     ...\n",
       "1457     9702    stimuli/dist_stimuli/images/9702.jpg\n",
       "1458     9064    stimuli/dist_stimuli/images/9064.jpg\n",
       "1459     9070    stimuli/dist_stimuli/images/9070.jpg\n",
       "1460     9716    stimuli/dist_stimuli/images/9716.jpg\n",
       "1461     9058    stimuli/dist_stimuli/images/9058.jpg\n",
       "\n",
       "[1462 rows x 2 columns]"
      ]
     },
     "execution_count": 42,
     "metadata": {},
     "output_type": "execute_result"
    }
   ],
   "source": [
    "import glob\n",
    "import os\n",
    "def get_image_paths(folder): \n",
    "    image_path = list(glob.glob(os.path.join(folder, \"**\", \"*.jpg\"), recursive=True))\n",
    "    image_path = [os.path.join(\"stimuli\", i.split(\"stimuli/\", 1)[-1]) for i in image_path]\n",
    "    image_id = [i.split(\"/\")[-1].rstrip(\".jpg\") for i in image_path]\n",
    "    return pd.DataFrame(dict(image_id=image_id, image_path=image_path))\n",
    "get_image_paths(\"/Users/kamp/PhD/experiments/mem_diff_exp/stimuli\")\n"
   ]
  },
  {
   "cell_type": "code",
   "execution_count": 54,
   "id": "cbe29326",
   "metadata": {},
   "outputs": [
    {
     "name": "stdout",
     "output_type": "stream",
     "text": [
      "00\n"
     ]
    }
   ],
   "source": [
    "import numpy as np\n",
    "i = 0\n",
    "a = f\"{i:02d}\"\n",
    "while i<10:\n",
    "    i +=1 \n",
    "print(a)"
   ]
  },
  {
   "cell_type": "code",
   "execution_count": 4,
   "id": "9ecec6b6",
   "metadata": {},
   "outputs": [
    {
     "data": {
      "application/vnd.microsoft.datawrangler.viewer.v0+json": {
       "columns": [
        {
         "name": "index",
         "rawType": "int64",
         "type": "integer"
        },
        {
         "name": "a",
         "rawType": "object",
         "type": "string"
        },
        {
         "name": "b",
         "rawType": "object",
         "type": "string"
        },
        {
         "name": "c",
         "rawType": "object",
         "type": "string"
        },
        {
         "name": "d",
         "rawType": "object",
         "type": "string"
        }
       ],
       "ref": "5d270f2c-4996-41c6-8b4f-6b5187b96ed1",
       "rows": [
        [
         "0",
         "0",
         "1",
         "a",
         "b"
        ],
        [
         "1",
         "0",
         "1",
         "a",
         "b"
        ]
       ],
       "shape": {
        "columns": 4,
        "rows": 2
       }
      },
      "text/html": [
       "<div>\n",
       "<style scoped>\n",
       "    .dataframe tbody tr th:only-of-type {\n",
       "        vertical-align: middle;\n",
       "    }\n",
       "\n",
       "    .dataframe tbody tr th {\n",
       "        vertical-align: top;\n",
       "    }\n",
       "\n",
       "    .dataframe thead th {\n",
       "        text-align: right;\n",
       "    }\n",
       "</style>\n",
       "<table border=\"1\" class=\"dataframe\">\n",
       "  <thead>\n",
       "    <tr style=\"text-align: right;\">\n",
       "      <th></th>\n",
       "      <th>a</th>\n",
       "      <th>b</th>\n",
       "      <th>c</th>\n",
       "      <th>d</th>\n",
       "    </tr>\n",
       "  </thead>\n",
       "  <tbody>\n",
       "    <tr>\n",
       "      <th>0</th>\n",
       "      <td>0</td>\n",
       "      <td>1</td>\n",
       "      <td>a</td>\n",
       "      <td>b</td>\n",
       "    </tr>\n",
       "    <tr>\n",
       "      <th>1</th>\n",
       "      <td>0</td>\n",
       "      <td>1</td>\n",
       "      <td>a</td>\n",
       "      <td>b</td>\n",
       "    </tr>\n",
       "  </tbody>\n",
       "</table>\n",
       "</div>"
      ],
      "text/plain": [
       "   a  b  c  d\n",
       "0  0  1  a  b\n",
       "1  0  1  a  b"
      ]
     },
     "execution_count": 4,
     "metadata": {},
     "output_type": "execute_result"
    }
   ],
   "source": [
    "import numpy as np\n",
    "import pandas as pd\n",
    "\n",
    "a = np.concat([np.arange(2), [\"a\",\"b\"]])\n",
    "pd.DataFrame([a,a], columns=list(\"abcd\"))"
   ]
  },
  {
   "cell_type": "code",
   "execution_count": 2,
   "id": "b8790270",
   "metadata": {},
   "outputs": [
    {
     "name": "stdout",
     "output_type": "stream",
     "text": [
      "[0.792 5.818 4.562 2.048 3.305]\n"
     ]
    },
    {
     "data": {
      "text/plain": [
       "array([ 140.48,  142.35,  178.75,  -89.72,  -29.96, -197.74,  -91.86,\n",
       "        177.66, -197.34,  -32.54])"
      ]
     },
     "execution_count": 2,
     "metadata": {},
     "output_type": "execute_result"
    }
   ],
   "source": [
    "import numpy as np\n",
    "\n",
    "def generate_random_angles(n):\n",
    "    \"\"\"\n",
    "    Generate a list of random angles evenly distributed around a circle.\n",
    "\n",
    "    This function generates `n` angles such that they are evenly spaced \n",
    "    around a circle, starting from a random initial angle. The angles \n",
    "    are then randomly permuted and rounded to three decimal places.\n",
    "\n",
    "    Parameters:\n",
    "        n (int): The number of angles to generate.\n",
    "\n",
    "    Returns:\n",
    "        numpy.ndarray: A 1D array of `n` random angles (in radians), \n",
    "        evenly distributed and randomly permuted, rounded to three decimal places.\n",
    "    \"\"\"\n",
    "    angle_between = np.pi * 2 / n\n",
    "    random_angles = [np.random.rand() * (np.pi * 2)]\n",
    "    for _ in range(n-1):\n",
    "        next_angle = (random_angles[-1] + angle_between) % (np.pi * 2)\n",
    "        random_angles.append(next_angle)\n",
    "    random_angles = np.random.permutation(random_angles)\n",
    "    random_angles = np.round(random_angles, 3)\n",
    "    return random_angles\n",
    "\n",
    "def convert2cartesian(radius, theta):\n",
    "    x = radius * np.cos(theta)\n",
    "    y = radius * np.sin(theta)\n",
    "    return x, y\n",
    "\n",
    "theta = generate_random_angles(5)\n",
    "print(theta)\n",
    "radius = 200\n",
    "cartesian_coords = np.round([convert2cartesian(radius, t) for t in theta],2)\n",
    "cartesian_coords.flatten()\n"
   ]
  },
  {
   "cell_type": "code",
   "execution_count": 5,
   "id": "f4fcae11",
   "metadata": {},
   "outputs": [
    {
     "data": {
      "text/plain": [
       "array([1., 0., 0., 0., 0., 1., 0., 0., 0., 0., 0., 0., 1., 1., 1., 1., 1.,\n",
       "       0., 1., 0., 1., 0., 1., 0., 1., 0., 0., 0., 1., 0., 1., 0., 1., 1.,\n",
       "       1., 0., 1., 1., 1., 1., 0., 1., 0., 0., 1., 0., 0., 0., 1., 0., 1.,\n",
       "       0., 1., 0., 0., 1., 1., 1., 1., 1., 0., 1., 0., 0., 1., 1., 1., 1.,\n",
       "       0., 0., 1., 0., 1., 0., 1., 0., 1., 0., 0., 0., 1., 1., 1., 1., 0.,\n",
       "       1., 1., 0., 1., 0., 1., 0., 1., 0., 0., 0., 1., 0., 0., 1.])"
      ]
     },
     "execution_count": 5,
     "metadata": {},
     "output_type": "execute_result"
    }
   ],
   "source": [
    "import numpy as np\n",
    "l = 100\n",
    "a = np.zeros(l)\n",
    "a[l//2:] = 1\n",
    "\n",
    "np.random.permutation(a)\n"
   ]
  },
  {
   "cell_type": "code",
   "execution_count": 93,
   "id": "cd91336f",
   "metadata": {},
   "outputs": [
    {
     "data": {
      "text/plain": [
       "array([0, 3, 2, 1])"
      ]
     },
     "execution_count": 93,
     "metadata": {},
     "output_type": "execute_result"
    }
   ],
   "source": [
    "import numpy as np\n",
    "a = np.arange(201)\n",
    "b = np.random.permutation(a)\n",
    "\n",
    "\n",
    "# Generate a random permutation of the first 4 elements of a\n",
    "np.random.permutation(a[:4])"
   ]
  },
  {
   "cell_type": "code",
   "execution_count": 31,
   "id": "81681a94",
   "metadata": {},
   "outputs": [
    {
     "name": "stdout",
     "output_type": "stream",
     "text": [
      "[0.09090909 0.27272727 0.27272727 0.27272727 0.09090909]\n"
     ]
    },
    {
     "data": {
      "text/plain": [
       "(array([ 5.,  0., 27.,  0.,  0., 26.,  0., 33.,  0.,  9.]),\n",
       " array([0. , 0.4, 0.8, 1.2, 1.6, 2. , 2.4, 2.8, 3.2, 3.6, 4. ]),\n",
       " <BarContainer object of 10 artists>)"
      ]
     },
     "execution_count": 31,
     "metadata": {},
     "output_type": "execute_result"
    },
    {
     "data": {
      "image/png": "[encoded data removed]",
      "text/plain": [
       "<Figure size 640x480 with 1 Axes>"
      ]
     },
     "metadata": {},
     "output_type": "display_data"
    }
   ],
   "source": [
    "import numpy as np\n",
    "import matplotlib.pyplot as plt\n",
    "p = [1,3,3,3,1]\n",
    "p = p/np.sum(p)\n",
    "print(p)\n",
    "\n",
    "a = []\n",
    "for i in range(100):\n",
    "    a.append(np.random.choice(np.arange(5), 2, replace=False, p = p))\n",
    "\n",
    "a = np.array(a)\n",
    "# plt.hist(a[:,0])\n",
    "plt.hist(a[:,1])"
   ]
  }
 ],
 "metadata": {
  "kernelspec": {
   "display_name": "mem_diff",
   "language": "python",
   "name": "python3"
  },
  "language_info": {
   "codemirror_mode": {
    "name": "ipython",
    "version": 3
   },
   "file_extension": ".py",
   "mimetype": "text/x-python",
   "name": "python",
   "nbconvert_exporter": "python",
   "pygments_lexer": "ipython3",
   "version": "3.13.2"
  }
 },
 "nbformat": 4,
 "nbformat_minor": 5
}
